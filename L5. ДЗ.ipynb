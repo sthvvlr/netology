{
 "cells": [
  {
   "cell_type": "markdown",
   "metadata": {},
   "source": [
    "# Домашнее задание\n",
    "\n",
    "- Скачайте текст войны и мир (ссылка на [github](https://github.com/netology-code/ds3-spring-2018/tree/master/7.%20Time_series/7.4/war_and_peace) и [гугл диск](https://drive.google.com/drive/u/2/folders/1aM7cNI6Qs7AyeYpQ8lNg7vLsHzIl0JbU)). Очистите его, оставив только русские буквы и символы пробела. Постройте матрицу переходных вероятностей. Посчитайте вероятность встретить строку из 4-х символов, которая начинается п, а кончается на р; Используя матрицу переходных вероятностей сгенерируйте слово, начинающееся с буквы \"Б\" и имеющее длину 8-мь символов\n",
    "- [Выберите ряд](https://datamarket.com/data/list/?q=cat:fpg%20provider:tsdl) и оцените его через HMM. Попробуйте \"построить\" (через среднее каждой компоненты) наивный прогноз ряда."
   ]
  },
  {
   "cell_type": "code",
   "execution_count": 1,
   "metadata": {},
   "outputs": [],
   "source": [
    "import numpy as np\n",
    "import re\n",
    "import matplotlib.pyplot as plt\n",
    "import seaborn as sns\n",
    "import pandas as pd\n",
    "%matplotlib inline\n",
    "sns.set()"
   ]
  },
  {
   "cell_type": "code",
   "execution_count": 2,
   "metadata": {},
   "outputs": [],
   "source": [
    "with open('/Users/valeriaastahova/Downloads/tom_1.txt', 'r') as f:\n",
    "    text = f.read().lower() #делаем все буквы маленькими \n",
    "text = re.sub('[^а-я ]','', text) #удаляем лишние символы, включая пробелы (их можно и убирать, и оставлять)"
   ]
  },
  {
   "cell_type": "code",
   "execution_count": 3,
   "metadata": {},
   "outputs": [],
   "source": [
    "RUSSIAN = 'абвгдеёжзийклмнопрстуфхцчшщъыьэюя '\n",
    "POS = {l: i for i, l in enumerate(RUSSIAN)}"
   ]
  },
  {
   "cell_type": "code",
   "execution_count": 4,
   "metadata": {
    "scrolled": true
   },
   "outputs": [
    {
     "data": {
      "text/plain": [
       "{'а': 0,\n",
       " 'б': 1,\n",
       " 'в': 2,\n",
       " 'г': 3,\n",
       " 'д': 4,\n",
       " 'е': 5,\n",
       " 'ё': 6,\n",
       " 'ж': 7,\n",
       " 'з': 8,\n",
       " 'и': 9,\n",
       " 'й': 10,\n",
       " 'к': 11,\n",
       " 'л': 12,\n",
       " 'м': 13,\n",
       " 'н': 14,\n",
       " 'о': 15,\n",
       " 'п': 16,\n",
       " 'р': 17,\n",
       " 'с': 18,\n",
       " 'т': 19,\n",
       " 'у': 20,\n",
       " 'ф': 21,\n",
       " 'х': 22,\n",
       " 'ц': 23,\n",
       " 'ч': 24,\n",
       " 'ш': 25,\n",
       " 'щ': 26,\n",
       " 'ъ': 27,\n",
       " 'ы': 28,\n",
       " 'ь': 29,\n",
       " 'э': 30,\n",
       " 'ю': 31,\n",
       " 'я': 32,\n",
       " ' ': 33}"
      ]
     },
     "execution_count": 4,
     "metadata": {},
     "output_type": "execute_result"
    }
   ],
   "source": [
    "POS"
   ]
  },
  {
   "cell_type": "code",
   "execution_count": 5,
   "metadata": {},
   "outputs": [],
   "source": [
    "probabilities = np.zeros((len(RUSSIAN), len(RUSSIAN)))"
   ]
  },
  {
   "cell_type": "code",
   "execution_count": 6,
   "metadata": {},
   "outputs": [],
   "source": [
    "for cp, cn in zip(text[:-1], text[1:]):\n",
    "    probabilities[POS[cp], POS[cn]] += 1"
   ]
  },
  {
   "cell_type": "code",
   "execution_count": 7,
   "metadata": {},
   "outputs": [
    {
     "name": "stderr",
     "output_type": "stream",
     "text": [
      "/Users/valeriaastahova/opt/anaconda3/lib/python3.7/site-packages/ipykernel_launcher.py:1: RuntimeWarning: invalid value encountered in true_divide\n",
      "  \"\"\"Entry point for launching an IPython kernel.\n"
     ]
    }
   ],
   "source": [
    "probabilities = (probabilities / probabilities.sum(axis=1)[:, None])"
   ]
  },
  {
   "cell_type": "code",
   "execution_count": 8,
   "metadata": {},
   "outputs": [],
   "source": [
    "df = pd.DataFrame(probabilities, index=(c for c in RUSSIAN), columns=(c for c in RUSSIAN))"
   ]
  },
  {
   "cell_type": "code",
   "execution_count": 9,
   "metadata": {},
   "outputs": [
    {
     "data": {
      "image/png": "[encoded data removed]",
      "text/plain": [
       "<Figure size 1008x576 with 2 Axes>"
      ]
     },
     "metadata": {},
     "output_type": "display_data"
    }
   ],
   "source": [
    "plt.figure(figsize=(14,8)) \n",
    "sns.heatmap(df) # рисуем тепловую карту \n",
    "plt.show()"
   ]
  },
  {
   "cell_type": "markdown",
   "metadata": {},
   "source": [
    "Посчитайте вероятность встретить строку из 4-х символов, которая начинается п, а кончается на р"
   ]
  },
  {
   "cell_type": "code",
   "execution_count": 10,
   "metadata": {},
   "outputs": [
    {
     "name": "stdout",
     "output_type": "stream",
     "text": [
      "пегр 1.289123450649265e-05\n",
      "пепр 1.3070781235722301e-05\n",
      "петр 1.0415979808014655e-05\n",
      "побр 3.044931249563154e-05\n",
      "повр 1.184036438186589e-05\n",
      "погр 4.351228552163012e-05\n",
      "подр 4.281177192917951e-05\n",
      "поер 2.5982397849612053e-05\n",
      "покр 1.1646684631571528e-05\n",
      "попр 3.683359162997977e-05\n",
      "потр 4.758472535974391e-05\n",
      "пофр 1.4304379775441625e-05\n",
      "прар 6.684419790935848e-05\n",
      "прер 0.0001274229739682576\n",
      "прир 1.3097851201096599e-05\n",
      "прор 9.284334741372856e-05\n",
      "прур 1.5373283774638692e-05\n"
     ]
    }
   ],
   "source": [
    "start = POS['п']\n",
    "end = POS['р']\n",
    "prior = 1. / len(RUSSIAN)\n",
    "for c in RUSSIAN:\n",
    "    if c != ' ': #исключаем пробелы\n",
    "        for s in RUSSIAN:\n",
    "            if s != ' ': #исключаем пробелы\n",
    "                proba = prior * probabilities[start, POS[c]] * probabilities[POS[c], POS[s]] * probabilities[POS[s], end]\n",
    "                if proba > 1.0e-05: #взяла значение побольше, чтобы исключить совсем маленькие вероятности \n",
    "                    print(''.join(['п', c, s, 'р']), proba)"
   ]
  },
  {
   "cell_type": "markdown",
   "metadata": {},
   "source": [
    "Используя матрицу переходных вероятностей сгенерируйте слово, начинающееся с буквы \"Б\" и имеющее длину 8-мь символов"
   ]
  },
  {
   "cell_type": "code",
   "execution_count": 11,
   "metadata": {},
   "outputs": [
    {
     "name": "stdout",
     "output_type": "stream",
     "text": [
      "былалала\n"
     ]
    }
   ],
   "source": [
    "start = POS['б']\n",
    "word = 'б'\n",
    "prev_letter = 'б'\n",
    "for n in range(7):\n",
    "    letter = 'а'\n",
    "    prob = probabilities[POS[prev_letter], POS[letter]]\n",
    "    for c in list(RUSSIAN):\n",
    "        if c != ' ':\n",
    "            if probabilities[POS[prev_letter], POS[c]] > prob:\n",
    "                letter = c\n",
    "                prob = probabilities[POS[prev_letter], POS[c]]\n",
    "    word += letter\n",
    "    prev_letter = letter\n",
    "print(word)    "
   ]
  },
  {
   "cell_type": "code",
   "execution_count": 12,
   "metadata": {},
   "outputs": [],
   "source": [
    "def word_generator(x, count):\n",
    "    start = POS[x]\n",
    "    word = x\n",
    "    prev_letter = x\n",
    "    for n in range(count):\n",
    "        letter = 'а'\n",
    "        prob = probabilities[POS[prev_letter], POS[letter]]\n",
    "        for c in list(RUSSIAN):\n",
    "            if c != ' ':\n",
    "                if probabilities[POS[prev_letter], POS[c]] > prob:\n",
    "                    letter = c\n",
    "                    prob = probabilities[POS[prev_letter], POS[c]]\n",
    "        word += letter\n",
    "        prev_letter = letter\n",
    "    print(word)    "
   ]
  },
  {
   "cell_type": "code",
   "execution_count": 13,
   "metadata": {},
   "outputs": [
    {
     "name": "stdout",
     "output_type": "stream",
     "text": [
      "былалалал\n"
     ]
    }
   ],
   "source": [
    "word_generator('б', 8)"
   ]
  },
  {
   "cell_type": "markdown",
   "metadata": {},
   "source": [
    "# Комментарий \n",
    "Не очень поняла, правильно ли я выполнила задание. Если нам нужно сгенерировать реально существующее слово, то не очень правильно, потому что как тогда перезапустить цикл с игнорирование уже использованного варианта? "
   ]
  },
  {
   "cell_type": "markdown",
   "metadata": {},
   "source": [
    "-"
   ]
  },
  {
   "cell_type": "markdown",
   "metadata": {},
   "source": [
    "Выберите ряд и оцените его через HMM. Попробуйте \"построить\" (через среднее каждой компоненты) наивный прогноз ряда."
   ]
  },
  {
   "cell_type": "code",
   "execution_count": 14,
   "metadata": {},
   "outputs": [],
   "source": [
    "from hmmlearn.hmm import GaussianHMM\n",
    "from warnings import filterwarnings \n",
    "filterwarnings('ignore')"
   ]
  },
  {
   "cell_type": "code",
   "execution_count": 15,
   "metadata": {},
   "outputs": [],
   "source": [
    "series = pd.read_csv(\"/Users/valeriaastahova/Desktop/Машинное обучение Нетология/Датасеты/Временные ряды/Series/weekly-closings-of-the-dowjones-.csv\")"
   ]
  },
  {
   "cell_type": "code",
   "execution_count": 16,
   "metadata": {},
   "outputs": [],
   "source": [
    "series = series['Close']"
   ]
  },
  {
   "cell_type": "code",
   "execution_count": 17,
   "metadata": {},
   "outputs": [],
   "source": [
    "values = series.values.reshape(-1,1)"
   ]
  },
  {
   "cell_type": "code",
   "execution_count": 18,
   "metadata": {},
   "outputs": [
    {
     "name": "stdout",
     "output_type": "stream",
     "text": [
      "1 -894.2620483582104\n",
      "2 -820.6341453620555\n",
      "3 -786.837533266772\n",
      "4 -752.0201472668971\n",
      "5 -737.1181370072993\n",
      "6 -729.5671112589429\n",
      "7 -713.7233991716992\n",
      "8 -702.1057754508212\n",
      "9 -690.9838068209648\n"
     ]
    }
   ],
   "source": [
    "for n in range(1, 10): \n",
    "    model = GaussianHMM(n_components=n,\n",
    "                        covariance_type=\"diag\",\n",
    "                        n_iter=1000)\n",
    "    model.fit(values)\n",
    "    print (n, model.score(values))"
   ]
  },
  {
   "cell_type": "code",
   "execution_count": 19,
   "metadata": {},
   "outputs": [
    {
     "data": {
      "text/plain": [
       "[<matplotlib.lines.Line2D at 0x7ffcf4798950>]"
      ]
     },
     "execution_count": 19,
     "metadata": {},
     "output_type": "execute_result"
    },
    {
     "data": {
      "image/png": "[encoded data removed]",
      "text/plain": [
       "<Figure size 864x432 with 1 Axes>"
      ]
     },
     "metadata": {},
     "output_type": "display_data"
    }
   ],
   "source": [
    "model = GaussianHMM(n_components=10,\n",
    "                        covariance_type=\"diag\",\n",
    "                        n_iter=1000)\n",
    "model.fit(values)\n",
    "labels = model.predict(values) #предсказываем, какое значение к какому состоянию относится \n",
    "means = np.zeros_like(values) #создаем нулевой вектор размером с вектор значений\n",
    "for i in range(model.n_components):\n",
    "    means[labels == i] = model.means_[i] #в значения вектора записываем среднее значение для наших меток \n",
    "    \n",
    "plt.figure(figsize=(12, 6))\n",
    "plt.plot(values)\n",
    "plt.plot(means, linewidth=3)"
   ]
  },
  {
   "cell_type": "code",
   "execution_count": null,
   "metadata": {},
   "outputs": [],
   "source": []
  }
 ],
 "metadata": {
  "kernelspec": {
   "display_name": "Python 3",
   "language": "python",
   "name": "python3"
  },
  "language_info": {
   "codemirror_mode": {
    "name": "ipython",
    "version": 3
   },
   "file_extension": ".py",
   "mimetype": "text/x-python",
   "name": "python",
   "nbconvert_exporter": "python",
   "pygments_lexer": "ipython3",
   "version": "3.7.6"
  }
 },
 "nbformat": 4,
 "nbformat_minor": 4
}
